{
  "cells": [
    {
      "cell_type": "code",
      "execution_count": null,
      "metadata": {
        "colab": {
          "base_uri": "https://localhost:8080/",
          "height": 87
        },
        "id": "Xk5nfaySJA1z",
        "outputId": "a5191a7f-1ae3-4919-f58f-1c4d49a15445"
      },
      "outputs": [],
      "source": [
        "'''\n",
        "LUCAS BRASIL CARDOSO - 179737\n",
        "================================================================================\n",
        "\n",
        "INTRODUCTION TO DEEP LEARNING - TASK 1:\n",
        "\n",
        "Using the Income1.csv dataset, perform a linear regression of the Income variable\n",
        "(y - estimate value) from the Education variable (x - feature) using the matrix\n",
        "formulation of the least squares method (Lec.1 - slide 30).\n",
        "\n",
        "Present the results in a mini-report in PDF format, showing: 1) a graph showing\n",
        "the 30 points of the dataset together with the result of the linear regression\n",
        "in the form of the line y=wx; 2) the mean square error (MSE) curve as a function\n",
        "of the value of w (see example of results on Lec.1 - slide 31).\n",
        "\n",
        "The implemented code (or a link to the code, e.g., Google Colab) in Python using\n",
        "Numpy (see the Numpy library tutorial in the references) must be included in the\n",
        "report. Do not forget to grant access to the shared link.\n",
        "'''"
      ]
    },
    {
      "cell_type": "code",
      "execution_count": null,
      "metadata": {},
      "outputs": [],
      "source": [
        "'''\n",
        "starting commands\n",
        "python -m venv venv\n",
        ".\\venv\\Scripts\\Activate\n",
        "pip install pandas, numpy, matplotlib, scikit-learn, fpdf\n",
        "'''"
      ]
    },
    {
      "cell_type": "code",
      "execution_count": null,
      "metadata": {
        "colab": {
          "base_uri": "https://localhost:8080/",
          "height": 206
        },
        "id": "ZDuJCwQ0JRAL",
        "outputId": "fb63321c-28a1-4541-94ef-53c02eeb1340"
      },
      "outputs": [],
      "source": [
        "# import pandas and numpy\n",
        "import pandas as pd\n",
        "import numpy as np\n",
        "\n",
        "#import Income1.csv\n",
        "df = pd.read_csv('Income1.csv')\n",
        "df.head()"
      ]
    },
    {
      "cell_type": "code",
      "execution_count": null,
      "metadata": {
        "colab": {
          "base_uri": "https://localhost:8080/",
          "height": 472
        },
        "id": "iyev10kKJfzx",
        "outputId": "d17669aa-f156-4dd9-d85a-cc796c279ce5"
      },
      "outputs": [],
      "source": [
        "#prepare linear regression from database\n",
        "x = df['Education']\n",
        "y = df['Income']\n",
        "\n",
        "#from numpy start linear regression matrix\n",
        "X = np.array(x)\n",
        "Y = np.array(y)\n",
        "\n",
        "#create graph for plot the data\n",
        "import matplotlib.pyplot as plt\n",
        "plt.scatter(X, Y)\n",
        "plt.title('Linear Regression for Education x Income')\n",
        "plt.xlabel('Education')\n",
        "plt.ylabel('Income')\n",
        "\n",
        "#download image generated\n",
        "plt.savefig('data_plot.png')\n",
        "plt.show()"
      ]
    },
    {
      "cell_type": "code",
      "execution_count": null,
      "metadata": {
        "colab": {
          "base_uri": "https://localhost:8080/",
          "height": 472
        },
        "id": "Q-o6gUXYMSl_",
        "outputId": "ae7a3685-133f-45f5-af87-06196f298a95"
      },
      "outputs": [],
      "source": [
        "# calculate linear regression and stright line equation\n",
        "from sklearn.linear_model import LinearRegression\n",
        "model = LinearRegression()\n",
        "model.fit(X.reshape(-1, 1), Y)\n",
        "Y_pred = model.predict(X.reshape(-1, 1))\n",
        "\n",
        "# create plot figure\n",
        "plt.figure(figsize=(8,6))\n",
        "plt.scatter(X, Y, label=\"Dados reais\")\n",
        "plt.plot(X, Y_pred, color=\"red\", label=\"Reta ajustada\")\n",
        "plt.title(\"Regressão Linear - Education vs Income\")\n",
        "plt.xlabel(\"Education\")\n",
        "plt.ylabel(\"Income\")\n",
        "plt.legend()\n",
        "plt.grid(True)\n",
        "plt.show()\n",
        "\n",
        "# save image\n",
        "plt.savefig('linear_regression.png')\n",
        "plt.show()"
      ]
    },
    {
      "cell_type": "code",
      "execution_count": null,
      "metadata": {},
      "outputs": [],
      "source": [
        "#Mean Squared Error (MSE) curve as a function of the value of w\n",
        "\n",
        "# load dataset\n",
        "df = pd.read_csv(\"Income1.csv\")\n",
        "X = df[\"Education\"].values\n",
        "Y = df[\"Income\"].values\n",
        "\n",
        "# values for w\n",
        "w_values = np.linspace(-2, 10, 200)\n",
        "mse_values = []\n",
        "\n",
        "# Calculate the error for each w\n",
        "for w in w_values:\n",
        "    Y_test = w * X   # reta y = w*x (sem intercepto)\n",
        "    mse = np.mean((Y - Y_test)**2)\n",
        "    mse_values.append(mse)\n",
        "\n",
        "# Plot graph\n",
        "plt.figure(figsize=(8,6))\n",
        "plt.plot(w_values, mse_values, color=\"blue\")\n",
        "plt.title(\"Curva do Erro Quadrático Médio em função de w (sem intercepto)\")\n",
        "plt.xlabel(\"w\")\n",
        "plt.ylabel(\"MSE\")\n",
        "plt.grid(True)\n",
        "plt.show()"
      ]
    },
    {
      "cell_type": "code",
      "execution_count": null,
      "metadata": {
        "colab": {
          "base_uri": "https://localhost:8080/"
        },
        "id": "l1mf7Pz3MWS_",
        "outputId": "fa7cede6-c875-49d6-f2e1-3d1406622820"
      },
      "outputs": [],
      "source": [
        "#calculate mean square error\n",
        "from sklearn.metrics import mean_squared_error\n",
        "mse = mean_squared_error(Y, Y_pred)\n",
        "print('Mean Squared Error:', mse)\n",
        "\n",
        "#show the line equation (y=wx) function in the plot\n",
        "print('Linear Regression Equation: y =', model.coef_[0], 'x +', model.intercept_)"
      ]
    },
    {
      "cell_type": "code",
      "execution_count": null,
      "metadata": {
        "colab": {
          "base_uri": "https://localhost:8080/",
          "height": 35
        },
        "id": "Rngbsog-MpwY",
        "outputId": "16f6074b-6c4b-4ee6-dd42-588c779c3ad4"
      },
      "outputs": [],
      "source": [
        "#pip install fpdf\n",
        "#generate pdf from entire file\n",
        "import os\n",
        "from fpdf import FPDF\n",
        "\n",
        "pdf = FPDF()\n",
        "pdf.add_page()\n",
        "\n",
        "pdf.set_font('Arial', '', 12)\n",
        "pdf.cell(200, 10, txt='Lucas Brasil Cardoso - 179737', ln=1, align='C')\n",
        "pdf.cell(200, 10, txt='Introduction to Deep Learning - Task 1', ln=1, align='C')\n",
        "\n",
        "# espaço em branco\n",
        "pdf.cell(200, 10, txt='', ln=1, align='C')\n",
        "\n",
        "# imagens\n",
        "pdf.image('data_plot.png', x=40, y=30, w=140)\n",
        "pdf.image('linear_regression.png', x=40, y=130, w=140)\n",
        "\n",
        "# >>> ajusta a posição do cursor abaixo da última imagem\n",
        "pdf.set_y(240)  # define o Y de início do texto (ajuste conforme altura da sua imagem)\n",
        "\n",
        "# texto final\n",
        "pdf.set_font('Arial', '', 12)\n",
        "pdf.cell(200, 10, txt='Mean Squared Error: ' + str(mse), ln=1, align='C')\n",
        "pdf.cell(200, 10, txt='Linear Regression Equation: y = ' + str(model.coef_[0]) + ' x + ' + str(model.intercept_), ln=1, align='C')\n",
        "\n",
        "pdf.output('linear_regression.pdf')"
      ]
    }
  ],
  "metadata": {
    "colab": {
      "provenance": []
    },
    "kernelspec": {
      "display_name": "Python 3",
      "language": "python",
      "name": "python3"
    },
    "language_info": {
      "codemirror_mode": {
        "name": "ipython",
        "version": 3
      },
      "file_extension": ".py",
      "mimetype": "text/x-python",
      "name": "python",
      "nbconvert_exporter": "python",
      "pygments_lexer": "ipython3",
      "version": "3.10.11"
    }
  },
  "nbformat": 4,
  "nbformat_minor": 0
}
